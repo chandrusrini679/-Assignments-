{
  "nbformat": 4,
  "nbformat_minor": 0,
  "metadata": {
    "colab": {
      "provenance": [],
      "authorship_tag": "ABX9TyMmK+7ibPRJ09tk4027b4u7",
      "include_colab_link": true
    },
    "kernelspec": {
      "name": "python3",
      "display_name": "Python 3"
    },
    "language_info": {
      "name": "python"
    }
  },
  "cells": [
    {
      "cell_type": "markdown",
      "metadata": {
        "id": "view-in-github",
        "colab_type": "text"
      },
      "source": [
        "<a href=\"https://colab.research.google.com/github/chandrusrini679/-Assignments-/blob/main/structural_data_Assignment.ipynb\" target=\"_parent\"><img src=\"https://colab.research.google.com/assets/colab-badge.svg\" alt=\"Open In Colab\"/></a>"
      ]
    },
    {
      "cell_type": "code",
      "execution_count": null,
      "metadata": {
        "id": "rJEYynVqffsb"
      },
      "outputs": [],
      "source": [
        "\n",
        "import pyarrow.parquet as pq\n",
        "\n",
        "import matplotlib.pyplot as plt\n",
        "import numpy as np\n",
        "\n",
        "from sklearn import linear_model\n",
        "import itertools as it\n",
        "\n",
        "from copy import deepcopy\n",
        "%matplotlib inline\n",
        "\n",
        "import pandas as pd # handle the data\n",
        "from sklearn.model_selection import train_test_split # split the data\n",
        "\n",
        "from sklearn import metrics # evaluation metrics\n",
        "import seaborn as sns # plotting the data\n",
        "import matplotlib.pyplot as plt # plotting the data\n",
        "\n",
        "from sklearn.metrics import accuracy_score, plot_roc_curve, roc_curve, roc_auc_score, confusion_matrix, f1_score\n",
        "from sklearn.linear_model import LogisticRegression\n",
        "from sklearn.metrics import confusion_matrix\n",
        "from matplotlib.colors import ListedColormap\n",
        "\n",
        "from sklearn.model_selection import cross_val_score\n",
        "from sklearn.preprocessing import StandardScaler\n",
        "from sklearn.metrics import classification_report\n",
        "     \n"
      ]
    },
    {
      "cell_type": "code",
      "source": [
        "import zipfile"
      ],
      "metadata": {
        "id": "a2Ejc33s_8wI"
      },
      "execution_count": null,
      "outputs": []
    },
    {
      "cell_type": "code",
      "source": [
        "df = pd.read_csv(\"\", compression='zip') "
      ],
      "metadata": {
        "colab": {
          "base_uri": "https://localhost:8080/",
          "height": 130
        },
        "id": "4FB4IcK4Gaia",
        "outputId": "30cc9872-5e5e-42b2-dda1-cb387b6d27e1"
      },
      "execution_count": 16,
      "outputs": [
        {
          "output_type": "error",
          "ename": "SyntaxError",
          "evalue": "ignored",
          "traceback": [
            "\u001b[0;36m  File \u001b[0;32m\"<ipython-input-16-1a164cf9ac83>\"\u001b[0;36m, line \u001b[0;32m1\u001b[0m\n\u001b[0;31m    df = pd.read_csv(\"C:\\Users\\chand\\Downloads\\Structured_Data_Assignment .zip\", compression='zip')\u001b[0m\n\u001b[0m                     ^\u001b[0m\n\u001b[0;31mSyntaxError\u001b[0m\u001b[0;31m:\u001b[0m (unicode error) 'unicodeescape' codec can't decode bytes in position 2-3: truncated \\UXXXXXXXX escape\n"
          ]
        }
      ]
    },
    {
      "cell_type": "code",
      "source": [
        "df = pd.DataFrame(df)\n",
        "df1 = pd.DataFrame(df1)\n",
        "     "
      ],
      "metadata": {
        "id": "ne-Vz845IENz"
      },
      "execution_count": null,
      "outputs": []
    },
    {
      "cell_type": "code",
      "source": [
        "df = pd.get_dummies(df, columns=['Incident'])"
      ],
      "metadata": {
        "id": "MQma745uEGe0"
      },
      "execution_count": null,
      "outputs": []
    },
    {
      "cell_type": "code",
      "source": [
        "\n",
        "df.shape, df1.shape"
      ],
      "metadata": {
        "id": "INlsMkbnENJN"
      },
      "execution_count": null,
      "outputs": []
    },
    {
      "cell_type": "code",
      "source": [
        "\n",
        "df.isnull().sum(), df1.isnull().sum()"
      ],
      "metadata": {
        "id": "e8-5GUZSEM7a"
      },
      "execution_count": null,
      "outputs": []
    },
    {
      "cell_type": "code",
      "source": [
        "df = df.drop_duplicates(); df1 = df1.drop_duplicates()"
      ],
      "metadata": {
        "id": "xFa_Zc_hJtHP"
      },
      "execution_count": null,
      "outputs": []
    },
    {
      "cell_type": "code",
      "source": [
        "df.shape, df.shape"
      ],
      "metadata": {
        "id": "L3wEqpl1JvRU"
      },
      "execution_count": null,
      "outputs": []
    },
    {
      "cell_type": "code",
      "source": [
        "df.nunique()"
      ],
      "metadata": {
        "id": "uqUEAAqXJwCF"
      },
      "execution_count": null,
      "outputs": []
    },
    {
      "cell_type": "code",
      "source": [
        "df.dtypes, df1.dtypes"
      ],
      "metadata": {
        "id": "NmWh3mS0J1wX"
      },
      "execution_count": null,
      "outputs": []
    },
    {
      "cell_type": "code",
      "source": [
        "\n",
        "df.groupby('Patient-Uid').max()"
      ],
      "metadata": {
        "id": "YYhWURLvJ56C"
      },
      "execution_count": null,
      "outputs": []
    },
    {
      "cell_type": "code",
      "source": [
        "df.sort_values(by = ['Date'], inplace=True)\n",
        "df"
      ],
      "metadata": {
        "id": "P3gpyX-HKAO3"
      },
      "execution_count": null,
      "outputs": []
    },
    {
      "cell_type": "code",
      "source": [
        "df.shape"
      ],
      "metadata": {
        "id": "M5Ywg0Y-KCev"
      },
      "execution_count": null,
      "outputs": []
    },
    {
      "cell_type": "code",
      "source": [
        "sns.distplot(df['Date'].dropna(), kde=False, color='darkblue', bins=30)"
      ],
      "metadata": {
        "id": "ihDbPos7KHKW"
      },
      "execution_count": null,
      "outputs": []
    },
    {
      "cell_type": "code",
      "source": [
        "\n",
        "df['Date'] = pd.to_datetime(df['Date'], format='%Y-%m-%d')\n",
        "filtered_df = df.loc[(df['Date'] >= '2020-09-01')\n",
        "                     & (df['Date'] < '2020-09-15')]\n",
        "filtered_df"
      ],
      "metadata": {
        "id": "mEmZBwAeKHGy"
      },
      "execution_count": null,
      "outputs": []
    },
    {
      "cell_type": "code",
      "source": [
        "train_data = filtered_df.copy()"
      ],
      "metadata": {
        "id": "AjvDBMn0KHD_"
      },
      "execution_count": null,
      "outputs": []
    },
    {
      "cell_type": "code",
      "source": [
        "\n",
        "b = []\n",
        "for i in df.keys():\n",
        "  b.append(i)\n",
        "print(b)"
      ],
      "metadata": {
        "id": "nLO-xp0cKHBY"
      },
      "execution_count": null,
      "outputs": []
    },
    {
      "cell_type": "code",
      "source": [
        "\n",
        "b.remove('Patient-Uid')\n",
        "b.remove('Date')\n",
        "print(b)"
      ],
      "metadata": {
        "id": "CgK8ZltpKG9t"
      },
      "execution_count": null,
      "outputs": []
    },
    {
      "cell_type": "code",
      "source": [
        "df0 = df.iloc[2, :]\n",
        "df0"
      ],
      "metadata": {
        "id": "rlonv8KTKG6k"
      },
      "execution_count": null,
      "outputs": []
    },
    {
      "cell_type": "code",
      "source": [
        "\n",
        "df['TARGET_DRUG'] = np.where(df[['Incident_DRUG_TYPE_0', 'Incident_DRUG_TYPE_1', 'Incident_DRUG_TYPE_10', 'Incident_DRUG_TYPE_11', 'Incident_DRUG_TYPE_12', 'Incident_DRUG_TYPE_13', 'Incident_DRUG_TYPE_14', 'Incident_DRUG_TYPE_15', 'Incident_DRUG_TYPE_16', 'Incident_DRUG_TYPE_17', 'Incident_DRUG_TYPE_18', 'Incident_DRUG_TYPE_2', 'Incident_DRUG_TYPE_3', 'Incident_DRUG_TYPE_4', 'Incident_DRUG_TYPE_5', 'Incident_DRUG_TYPE_6', 'Incident_DRUG_TYPE_7', 'Incident_DRUG_TYPE_8', 'Incident_DRUG_TYPE_9', 'Incident_PRIMARY_DIAGNOSIS', 'Incident_SYMPTOM_TYPE_0', 'Incident_SYMPTOM_TYPE_1', 'Incident_SYMPTOM_TYPE_10', 'Incident_SYMPTOM_TYPE_11', 'Incident_SYMPTOM_TYPE_12', 'Incident_SYMPTOM_TYPE_13', 'Incident_SYMPTOM_TYPE_14', 'Incident_SYMPTOM_TYPE_15', 'Incident_SYMPTOM_TYPE_16', 'Incident_SYMPTOM_TYPE_17', 'Incident_SYMPTOM_TYPE_18', 'Incident_SYMPTOM_TYPE_19', 'Incident_SYMPTOM_TYPE_2', 'Incident_SYMPTOM_TYPE_20', 'Incident_SYMPTOM_TYPE_21', 'Incident_SYMPTOM_TYPE_22', 'Incident_SYMPTOM_TYPE_23', 'Incident_SYMPTOM_TYPE_24', 'Incident_SYMPTOM_TYPE_25', 'Incident_SYMPTOM_TYPE_26', 'Incident_SYMPTOM_TYPE_27', 'Incident_SYMPTOM_TYPE_28', 'Incident_SYMPTOM_TYPE_29', 'Incident_SYMPTOM_TYPE_3', 'Incident_SYMPTOM_TYPE_4', 'Incident_SYMPTOM_TYPE_5', 'Incident_SYMPTOM_TYPE_6', 'Incident_SYMPTOM_TYPE_7', 'Incident_SYMPTOM_TYPE_8', 'Incident_SYMPTOM_TYPE_9', 'Incident_TARGET DRUG', 'Incident_TEST_TYPE_0', 'Incident_TEST_TYPE_1', 'Incident_TEST_TYPE_2', 'Incident_TEST_TYPE_3', 'Incident_TEST_TYPE_4', 'Incident_TEST_TYPE_5']] == 1, 0, 1)\n",
        "df"
      ],
      "metadata": {
        "id": "GQbNjDiUKGwT"
      },
      "execution_count": null,
      "outputs": []
    },
    {
      "cell_type": "code",
      "source": [
        "df['TARGET_DRUG'].value_counts()"
      ],
      "metadata": {
        "id": "3X-T1YHoKhMO"
      },
      "execution_count": null,
      "outputs": []
    },
    {
      "cell_type": "code",
      "source": [
        "\n",
        "target_1 = df[df['TARGET_DRUG'] == 1]\n",
        "target_0 = df[df['TARGET_DRUG'] == 0]\n",
        "     "
      ],
      "metadata": {
        "id": "nm0h2V28Kir0"
      },
      "execution_count": null,
      "outputs": []
    },
    {
      "cell_type": "code",
      "source": [
        "\n",
        "print('Average Target Drug: ' + str(df['TARGET_DRUG'].mean()))\n",
        "print('Average Taken Target Drug: ' + str(target_1['TARGET_DRUG'].mean()))\n",
        "print('Average Not taking drug: ' + str(target_0['TARGET_DRUG'].mean()))\n",
        "print('\\n')"
      ],
      "metadata": {
        "id": "fRizJ0s8Kiod"
      },
      "execution_count": null,
      "outputs": []
    },
    {
      "cell_type": "code",
      "source": [
        "conditions = [\n",
        "    (df['TARGET_DRUG'] == 1),\n",
        "    (df['TARGET_DRUG'] != 1)]\n",
        "\n",
        "# create a list of the values we want to assign for each condition\n",
        "values = [1, 0]\n",
        "\n",
        "# create a new column and use np.select to assign values to it using our lists as arguments\n",
        "df['label'] = np.select(conditions, values)\n",
        "\n",
        "# display updated DataFrame\n",
        "df"
      ],
      "metadata": {
        "id": "pBB82RfEKilQ"
      },
      "execution_count": 16,
      "outputs": []
    },
    {
      "cell_type": "code",
      "source": [
        "df_1 = df.drop(['LABEL','Date','TARGET_DRUG'], axis=1)"
      ],
      "metadata": {
        "id": "EnO9eBnCKieS"
      },
      "execution_count": null,
      "outputs": []
    },
    {
      "cell_type": "code",
      "source": [
        "df_1.shape"
      ],
      "metadata": {
        "id": "aE8c10gHK9FP"
      },
      "execution_count": null,
      "outputs": []
    },
    {
      "cell_type": "code",
      "source": [
        "\n",
        "df_1.info()"
      ],
      "metadata": {
        "id": "GrAsuYmJK-1K"
      },
      "execution_count": null,
      "outputs": []
    },
    {
      "cell_type": "code",
      "source": [
        "train_df = df_1.copy()"
      ],
      "metadata": {
        "id": "Ys17OW8xK-xx"
      },
      "execution_count": null,
      "outputs": []
    },
    {
      "cell_type": "code",
      "source": [
        "X = train_df.drop('Patient-Uid', axis=1)\n",
        "y = train_df['label']\n",
        "     "
      ],
      "metadata": {
        "id": "-6Hh2Q-CK-vA"
      },
      "execution_count": null,
      "outputs": []
    },
    {
      "cell_type": "code",
      "source": [
        "def sigmoid(x):\n",
        "  return(1/(1 + np.exp(-x)))\n",
        "\n",
        "x_values_for_sigmoid = np.linspace(-10, 10)\n",
        "plt.figure(figsize=(8, 7))\n",
        "plt.plot(x_values_for_sigmoid, sigmoid(x_values_for_sigmoid), c='teal')\n",
        "plt.title('Sigmoid Function')\n",
        "plt.grid(True)\n",
        "plt.text(2, 0.3, r'\n",
        " \n",
        "', fontsize=26)\n",
        "plt.show()\n",
        "     "
      ],
      "metadata": {
        "id": "0KoScdXBK-nj"
      },
      "execution_count": null,
      "outputs": []
    },
    {
      "cell_type": "code",
      "source": [
        "logistic_regression = LogisticRegression() #initialise the required package\n",
        "logistic_regression.fit(X_train,y_train) #magic happens - best values of betas - training/learning happens here\n",
        "y_pred = logistic_regression.predict(X_test)\n",
        "\n",
        "logistic_regression.coef_"
      ],
      "metadata": {
        "id": "ZfLi9MiKLJXJ"
      },
      "execution_count": null,
      "outputs": []
    },
    {
      "cell_type": "code",
      "source": [
        "\n",
        "logistic_regression.predict_proba(X_test)\n",
        "     "
      ],
      "metadata": {
        "id": "kE3Oa8wjLJTr"
      },
      "execution_count": null,
      "outputs": []
    },
    {
      "cell_type": "code",
      "source": [
        "\n",
        "logistic_regression.coef_"
      ],
      "metadata": {
        "id": "eXiCjT_fLJNl"
      },
      "execution_count": null,
      "outputs": []
    },
    {
      "cell_type": "code",
      "source": [
        "logistic_regression.intercept_"
      ],
      "metadata": {
        "id": "5GERRsVdLWYK"
      },
      "execution_count": null,
      "outputs": []
    },
    {
      "cell_type": "code",
      "source": [
        "\n",
        "logistic_regression.score(X_test,y_test) # accuracy\n",
        "     "
      ],
      "metadata": {
        "id": "I-bYbAlPLaq0"
      },
      "execution_count": null,
      "outputs": []
    },
    {
      "cell_type": "code",
      "source": [
        "confusion_matrix(y_test,y_pred)"
      ],
      "metadata": {
        "id": "bOloSi5iLaZw"
      },
      "execution_count": null,
      "outputs": []
    },
    {
      "cell_type": "code",
      "source": [
        "\n",
        "f1_score(y_test,y_pred)"
      ],
      "metadata": {
        "id": "iX5HX6SJLesw"
      },
      "execution_count": null,
      "outputs": []
    },
    {
      "cell_type": "code",
      "source": [
        "logistic_regression.score(X_test,y_test)"
      ],
      "metadata": {
        "id": "WQV91yW4Lf_B"
      },
      "execution_count": null,
      "outputs": []
    },
    {
      "cell_type": "code",
      "source": [
        "plot_roc_curve(logistic_regression, X_test, y_test)"
      ],
      "metadata": {
        "id": "I_wNtZVRLfwv"
      },
      "execution_count": null,
      "outputs": []
    },
    {
      "cell_type": "code",
      "source": [
        "\n",
        "accuracy_score(y_test, y_pred)"
      ],
      "metadata": {
        "id": "0vluotZdLmOK"
      },
      "execution_count": null,
      "outputs": []
    },
    {
      "cell_type": "code",
      "source": [
        "\n",
        "confusion_matrix = pd.crosstab(y_test, y_pred, rownames=['Actual'], colnames=['Predicted'])\n",
        "sns.heatmap(confusion_matrix, annot=True)\n"
      ],
      "metadata": {
        "id": "e7EWFksHLqdA"
      },
      "execution_count": null,
      "outputs": []
    },
    {
      "cell_type": "code",
      "source": [
        "\n",
        "train_df.head()\n",
        "     "
      ],
      "metadata": {
        "id": "fUZ25-E7L0VW"
      },
      "execution_count": null,
      "outputs": []
    },
    {
      "cell_type": "code",
      "source": [
        "df_1 = df_1.drop(df_1.loc[:, 'Incident_DRUG_TYPE_0':'Incident_TEST_TYPE_5'].columns, axis=1)\n",
        "     \n",
        "\n",
        "df_1"
      ],
      "metadata": {
        "id": "iI1864y4L7DG"
      },
      "execution_count": null,
      "outputs": []
    },
    {
      "cell_type": "code",
      "source": [
        "\n",
        "df_1.to_csv(\"/content/drive./MyDrive/Akaike/Structured Data Assignment/final_submission.csv\")\n",
        "     \n",
        "\n",
        "df_1"
      ],
      "metadata": {
        "id": "DGr_ikZrMAWP"
      },
      "execution_count": null,
      "outputs": []
    },
    {
      "cell_type": "code",
      "source": [],
      "metadata": {
        "id": "YxN-6FoWMBME"
      },
      "execution_count": null,
      "outputs": []
    }
  ]
}